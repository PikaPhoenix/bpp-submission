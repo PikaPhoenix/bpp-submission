{
 "cells": [
  {
   "cell_type": "markdown",
   "id": "9f0ea4f3-0d0d-418e-ac59-bbdd78f6360d",
   "metadata": {},
   "source": [
    "# Global Electric Vehicle Usage from 2010 to 2023"
   ]
  },
  {
   "cell_type": "markdown",
   "id": "b4f8b6b1-8837-4a6c-8f99-654d7a89a327",
   "metadata": {},
   "source": [
    "## Background\n",
    "_Research Question: Which countries and continents have the highest usage of Electric Vehicles and has there been an increase in uptake in recent years (2010 – 2023)?_\n",
    "The increasing focus on Climate Change over the past two decades has led to a rise in seeking environmentally friendly alternatives. One of the biggest areas of focus was on automobiles due to the high dependency on these for private and public travel and the high level of pollution caused as a result of this. As such there has been a larger appetite for Electric Vehicles (EV) as a solution. However, has there been a definitive increase in the use of this in recent years, or has the uptake been slow? Are some areas more enthusiastic in actualising this solution than others and is there the infrastructure to support this?"
   ]
  },
  {
   "cell_type": "code",
   "execution_count": 1,
   "id": "bb6a373b-a61e-4a4c-8f32-2ec9a1d76f87",
   "metadata": {},
   "outputs": [],
   "source": [
    "import pandas as pd\n",
    "import seaborn as sns\n",
    "import numpy as np\n",
    "import matplotlib.pyplot as plt\n",
    "from statsmodels.tsa.stattools import adfuller\n",
    "from scipy.stats import pearsonr"
   ]
  },
  {
   "cell_type": "code",
   "execution_count": 3,
   "id": "b0b5f6fb-1e40-495a-89f3-4f25efb81f67",
   "metadata": {},
   "outputs": [],
   "source": [
    "dtf = pd.read_csv(\"../data/IEA Global EV Data 2024.csv\")"
   ]
  },
  {
   "cell_type": "markdown",
   "id": "a797c3ba-74dd-45df-a623-57aeb552992e",
   "metadata": {},
   "source": [
    "## Dataset and Exploratory Data Analysis\n",
    "After importing the dataset, call the head of the data to get a small snapshot and an understanding of the column names and their types with dtypes. The isnull will ensure there are no missing values, and summarises the data. There are 12654 rows and 8 columns. "
   ]
  },
  {
   "cell_type": "code",
   "execution_count": 4,
   "id": "e46a3f0c-6cb8-4f4e-ac41-b81330959a8e",
   "metadata": {},
   "outputs": [
    {
     "data": {
      "text/html": [
       "<div>\n",
       "<style scoped>\n",
       "    .dataframe tbody tr th:only-of-type {\n",
       "        vertical-align: middle;\n",
       "    }\n",
       "\n",
       "    .dataframe tbody tr th {\n",
       "        vertical-align: top;\n",
       "    }\n",
       "\n",
       "    .dataframe thead th {\n",
       "        text-align: right;\n",
       "    }\n",
       "</style>\n",
       "<table border=\"1\" class=\"dataframe\">\n",
       "  <thead>\n",
       "    <tr style=\"text-align: right;\">\n",
       "      <th></th>\n",
       "      <th>region</th>\n",
       "      <th>category</th>\n",
       "      <th>parameter</th>\n",
       "      <th>mode</th>\n",
       "      <th>powertrain</th>\n",
       "      <th>year</th>\n",
       "      <th>unit</th>\n",
       "      <th>value</th>\n",
       "    </tr>\n",
       "  </thead>\n",
       "  <tbody>\n",
       "    <tr>\n",
       "      <th>0</th>\n",
       "      <td>Australia</td>\n",
       "      <td>Historical</td>\n",
       "      <td>EV stock share</td>\n",
       "      <td>Cars</td>\n",
       "      <td>EV</td>\n",
       "      <td>2011</td>\n",
       "      <td>percent</td>\n",
       "      <td>0.00039</td>\n",
       "    </tr>\n",
       "    <tr>\n",
       "      <th>1</th>\n",
       "      <td>Australia</td>\n",
       "      <td>Historical</td>\n",
       "      <td>EV sales share</td>\n",
       "      <td>Cars</td>\n",
       "      <td>EV</td>\n",
       "      <td>2011</td>\n",
       "      <td>percent</td>\n",
       "      <td>0.00650</td>\n",
       "    </tr>\n",
       "    <tr>\n",
       "      <th>2</th>\n",
       "      <td>Australia</td>\n",
       "      <td>Historical</td>\n",
       "      <td>EV sales</td>\n",
       "      <td>Cars</td>\n",
       "      <td>BEV</td>\n",
       "      <td>2011</td>\n",
       "      <td>Vehicles</td>\n",
       "      <td>49.00000</td>\n",
       "    </tr>\n",
       "    <tr>\n",
       "      <th>3</th>\n",
       "      <td>Australia</td>\n",
       "      <td>Historical</td>\n",
       "      <td>EV stock</td>\n",
       "      <td>Cars</td>\n",
       "      <td>BEV</td>\n",
       "      <td>2011</td>\n",
       "      <td>Vehicles</td>\n",
       "      <td>49.00000</td>\n",
       "    </tr>\n",
       "    <tr>\n",
       "      <th>4</th>\n",
       "      <td>Australia</td>\n",
       "      <td>Historical</td>\n",
       "      <td>EV stock</td>\n",
       "      <td>Cars</td>\n",
       "      <td>BEV</td>\n",
       "      <td>2012</td>\n",
       "      <td>Vehicles</td>\n",
       "      <td>220.00000</td>\n",
       "    </tr>\n",
       "  </tbody>\n",
       "</table>\n",
       "</div>"
      ],
      "text/plain": [
       "      region    category       parameter  mode powertrain  year      unit  \\\n",
       "0  Australia  Historical  EV stock share  Cars         EV  2011   percent   \n",
       "1  Australia  Historical  EV sales share  Cars         EV  2011   percent   \n",
       "2  Australia  Historical        EV sales  Cars        BEV  2011  Vehicles   \n",
       "3  Australia  Historical        EV stock  Cars        BEV  2011  Vehicles   \n",
       "4  Australia  Historical        EV stock  Cars        BEV  2012  Vehicles   \n",
       "\n",
       "       value  \n",
       "0    0.00039  \n",
       "1    0.00650  \n",
       "2   49.00000  \n",
       "3   49.00000  \n",
       "4  220.00000  "
      ]
     },
     "execution_count": 4,
     "metadata": {},
     "output_type": "execute_result"
    }
   ],
   "source": [
    "dtf.head()"
   ]
  },
  {
   "cell_type": "code",
   "execution_count": null,
   "id": "ca4d34cd-2056-4515-b1bc-49d36eb9a1c6",
   "metadata": {},
   "outputs": [],
   "source": [
    "print(dtf.dtypes)\n",
    "print(dtf.shape)"
   ]
  },
  {
   "cell_type": "code",
   "execution_count": null,
   "id": "8afb3470-8970-45d3-b6e2-e865341f7bfd",
   "metadata": {},
   "outputs": [],
   "source": [
    "print(dtf.isnull())\n",
    "print(dtf.info())"
   ]
  },
  {
   "cell_type": "code",
   "execution_count": null,
   "id": "25ecdea5-5aef-4a5b-9084-a771ef914ed4",
   "metadata": {},
   "outputs": [],
   "source": [
    "unique_region = dtf['region'].unique()\n",
    "print(unique_region)\n",
    "print(len(unique_region))"
   ]
  },
  {
   "cell_type": "code",
   "execution_count": null,
   "id": "42aef4d6-effd-4368-88f1-75bd50acf85d",
   "metadata": {},
   "outputs": [],
   "source": [
    "print(dtf['year'].unique())\n",
    "print(dtf['unit'].unique())\n",
    "print(dtf['category'].unique())"
   ]
  },
  {
   "cell_type": "markdown",
   "id": "94c2ca22-ca1c-49bb-8ab0-45c5eef0c376",
   "metadata": {},
   "source": [
    "The analysis I want to run is based on actual data. As the category type shows the dataset contains projection data also, this will need to be dropped. The Unit also shows additional variables than Vehicles such as charging points, so again the data will be filtered to show only vehicles. This means the vehicle variable will show actual data based around electric vehicles, compromising of 5078 rows of data. This is then plotted to show the different types electric vehicles and their %s within the dataset."
   ]
  },
  {
   "cell_type": "code",
   "execution_count": null,
   "id": "a199acc0-4269-4643-8540-b963cc4abf97",
   "metadata": {},
   "outputs": [],
   "source": [
    "historical = dtf[dtf['category'] == 'Historical']\n",
    "print(historical.shape)"
   ]
  },
  {
   "cell_type": "code",
   "execution_count": null,
   "id": "842f0881-c72c-4d43-8ef8-8b6a0370b67d",
   "metadata": {},
   "outputs": [],
   "source": [
    "vehicle = historical[historical['unit'] == 'Vehicles']\n",
    "print(vehicle.shape)"
   ]
  },
  {
   "cell_type": "code",
   "execution_count": null,
   "id": "5af63656-acf9-4558-bac2-6b2995989b88",
   "metadata": {},
   "outputs": [],
   "source": [
    "modes = vehicle['mode'].value_counts()\n",
    "plt.figure(figsize=(7, 7))\n",
    "plt.pie(modes,\n",
    "        startangle = 90,\n",
    "        labels = modes.index,\n",
    "        autopct = '%1.2f%%',\n",
    "        wedgeprops = {'width': 0.5},\n",
    "        colors = sns.color_palette(\"pastel\"))\n",
    "plt.title('Electric Vehicle Transport Types')\n",
    "plt.axis('equal')\n",
    "plt.show()"
   ]
  },
  {
   "cell_type": "code",
   "execution_count": null,
   "id": "ffa83e7c-0215-42d6-9f61-9bc79ad29243",
   "metadata": {},
   "outputs": [],
   "source": [
    "vehicle_groups = vehicle.groupby('region')['value'].sum()\n",
    "country_ev = pd.DataFrame(vehicle_groups).reset_index()\n",
    "country_ev.columns = ['country', 'total value']\n",
    "country_ev = country_ev[country_ev['country'] != 'World']\n",
    "print (country_ev)"
   ]
  },
  {
   "cell_type": "code",
   "execution_count": null,
   "id": "a156dca9-d943-4f41-89b0-170c6b55fd66",
   "metadata": {},
   "outputs": [],
   "source": [
    "sns.set(style = \"whitegrid\")\n",
    "plt.figure(figsize = (15, 8))\n",
    "sns.barplot(country_ev, x = 'country', y = 'total value', hue = 'country', palette = 'magma')\n",
    "plt.title('Total Vehicle Sales by Country 2010-2023')\n",
    "plt.xlabel('Country')\n",
    "plt.xticks(rotation = 90)\n",
    "plt.ylabel('Total Sales 2010 - 2023 (log)')\n",
    "plt.yscale('log')\n",
    "plt.show()"
   ]
  },
  {
   "cell_type": "code",
   "execution_count": null,
   "id": "15187149-c41e-40a6-b474-a60de70daac3",
   "metadata": {},
   "outputs": [],
   "source": [
    "total_sum = country_ev['total value'].sum()\n",
    "country_ev['Percentage'] = (country_ev['total value'] / total_sum) * 100\n",
    "\n",
    "sns.set(style = \"whitegrid\")\n",
    "plt.figure(figsize = (15, 8))\n",
    "sns.barplot(country_ev, y = 'Percentage', x = 'country', hue = 'country', palette = 'magma')\n",
    "plt.title('Total Vehicle  % Sales by Country 2010-2023')\n",
    "plt.xlabel('Country')\n",
    "plt.xticks(rotation = 90)\n",
    "plt.ylabel('Total Sales 2010 - 2023 %')\n",
    "plt.show()"
   ]
  },
  {
   "cell_type": "code",
   "execution_count": null,
   "id": "613bfa37-fab4-4558-bfeb-a1bc30dd528a",
   "metadata": {},
   "outputs": [],
   "source": [
    "top_countries = country_ev.sort_values('total value', ascending = False).head(10)\n",
    "top_countries = pd.DataFrame(top_countries).reset_index(drop=True)\n",
    "top_countries.index +=1\n",
    "print(top_countries)"
   ]
  },
  {
   "cell_type": "code",
   "execution_count": null,
   "id": "a482f72f-fd61-45b7-98c6-59b10d4508b3",
   "metadata": {},
   "outputs": [],
   "source": [
    "sns.set(style = 'whitegrid')\n",
    "plt.figure(figsize = (15, 8))\n",
    "sns.barplot(top_countries, x = 'country', y = 'total value', hue = 'country', palette = 'magma')\n",
    "plt.title('Top 10 Countries - Total Sales 2010-2023')\n",
    "plt.xlabel('Country')\n",
    "plt.xticks(rotation = 90)\n",
    "plt.ylabel('Total Sales')\n",
    "plt.yscale('log')\n",
    "plt.show()"
   ]
  },
  {
   "cell_type": "code",
   "execution_count": null,
   "id": "43633ef6-d742-4dd9-97ef-5e7e25f8c7a4",
   "metadata": {},
   "outputs": [],
   "source": [
    "world = vehicle[vehicle['region'] == 'World']\n",
    "print(world.shape)"
   ]
  },
  {
   "cell_type": "code",
   "execution_count": null,
   "id": "9fc68b89-260d-4831-b2c7-221178b40f7d",
   "metadata": {},
   "outputs": [],
   "source": [
    "sns.set(style = 'darkgrid')\n",
    "plt.figure(figsize = (14, 8))\n",
    "sns.lineplot(data = world,\n",
    "             x = 'year',\n",
    "             y = 'value',\n",
    "             color = 'purple',\n",
    "             marker = 'x')\n",
    "plt.title('Global EV Sales 2010-2023')\n",
    "plt.xlabel('Year')\n",
    "plt.ylabel('Sales')\n",
    "plt.show()"
   ]
  },
  {
   "cell_type": "code",
   "execution_count": null,
   "id": "53e09b33-ab87-4051-a13a-854ecd511cb4",
   "metadata": {},
   "outputs": [],
   "source": [
    "charging = historical[historical['unit'] == 'charging points']\n",
    "print(charging.shape)\n",
    "print(charging['region'].unique())"
   ]
  },
  {
   "cell_type": "code",
   "execution_count": null,
   "id": "0e57189c-9076-4b55-a2d2-029b712ad0dc",
   "metadata": {},
   "outputs": [],
   "source": [
    "charge_groups = charging.groupby('region')['value'].sum()\n",
    "country_char = pd.DataFrame(charge_groups).reset_index()\n",
    "country_char.columns = ['country', 'total value']\n",
    "country_char = country_char[country_char['country'] != 'World']\n",
    "print (country_char)"
   ]
  },
  {
   "cell_type": "code",
   "execution_count": null,
   "id": "7f30f0bf-936e-48a9-a971-598bd025fc7f",
   "metadata": {},
   "outputs": [],
   "source": [
    "top_charge = country_char.sort_values('total value', ascending = False).head(10)\n",
    "top_charge = pd.DataFrame(top_charge).reset_index(drop=True)\n",
    "top_charge.index+=1\n",
    "print(top_charge)"
   ]
  },
  {
   "cell_type": "code",
   "execution_count": null,
   "id": "8313d894-facb-42bd-8dda-b93d64ff0b62",
   "metadata": {},
   "outputs": [],
   "source": [
    "sns.set(style = 'darkgrid')\n",
    "plt.figure(figsize = (14, 8))\n",
    "sns.lineplot(data = top_charge,\n",
    "             x = 'country',\n",
    "             y = 'total value',\n",
    "             label = 'Charging Points',\n",
    "             color = 'green',\n",
    "             marker = 'o')\n",
    "sns.lineplot(data = top_countries,\n",
    "             x = 'country',\n",
    "             y = 'total value',\n",
    "             label = 'Vehicles',\n",
    "             color = 'purple',\n",
    "             marker = 'o')\n",
    "plt.title('Charging Points & Vehicle Total Sales 2010 - 2023')\n",
    "plt.xlabel('Country')\n",
    "plt.ylabel('Sales/NO. of charging points')\n",
    "plt.legend(loc='upper right')\n",
    "plt.annotate('Korea not in Top 10 Vehicles',\n",
    "             xy = ('Korea', 1.5e7),\n",
    "             xytext = ('USA', 3e7),\n",
    "             arrowprops=dict(color = 'purple', arrowstyle = '->'))\n",
    "plt.show()"
   ]
  },
  {
   "cell_type": "code",
   "execution_count": null,
   "id": "3be59fb6-ccf3-4afa-b0dc-c527cc14437b",
   "metadata": {},
   "outputs": [],
   "source": [
    "world_char = charging[charging['region'] == 'World']\n",
    "print(world_char.shape)"
   ]
  },
  {
   "cell_type": "code",
   "execution_count": null,
   "id": "8a20488d-6407-4b06-b297-77ccde5522e0",
   "metadata": {},
   "outputs": [],
   "source": [
    "sns.set(style = 'darkgrid')\n",
    "plt.figure(figsize = (14, 8))\n",
    "sns.lineplot(data = world_char,\n",
    "             x = 'year',\n",
    "             y = 'value',\n",
    "             color = 'green',\n",
    "             marker = 'o')\n",
    "plt.title('Global EV Charging Points 2010-2023')\n",
    "plt.xlabel('Year')\n",
    "plt.ylabel('Charging Points Sales')\n",
    "plt.show()"
   ]
  },
  {
   "cell_type": "code",
   "execution_count": null,
   "id": "118d254f-75aa-4426-a350-c56a621a4ae7",
   "metadata": {},
   "outputs": [],
   "source": [
    "sns.set(style = 'darkgrid')\n",
    "plt.figure(figsize = (14, 8))\n",
    "sns.lineplot(data = world_char,\n",
    "             x = 'year',\n",
    "             y = 'value',\n",
    "             label = 'Charging Point',\n",
    "             color = 'green',\n",
    "             marker = 'o')\n",
    "sns.lineplot(data = world,\n",
    "             x = 'year',\n",
    "             y = 'value',\n",
    "             label = 'Vehicles',\n",
    "             color = 'purple',\n",
    "             marker = 'o')\n",
    "plt.title('Global EV Charging Points and Vehicle 2010-2023')\n",
    "plt.xlabel('Year')\n",
    "plt.ylabel('Unit of Sales')\n",
    "plt.legend(loc = 'upper left')\n",
    "plt.show()"
   ]
  },
  {
   "cell_type": "code",
   "execution_count": null,
   "id": "b3319d40-5dcb-4a01-9885-4025a11451a9",
   "metadata": {},
   "outputs": [],
   "source": [
    "world_merge = world.groupby('year')['value'].sum()\n",
    "world_set = pd.DataFrame(world_merge).reset_index()\n",
    "world_set.columns = ['year', 'value']\n",
    "print(world_set)"
   ]
  },
  {
   "cell_type": "code",
   "execution_count": null,
   "id": "c48f38dc-2637-4d84-a672-0a24c1fa2075",
   "metadata": {},
   "outputs": [],
   "source": [
    "char_merge = world_char.groupby('year')['value'].sum()\n",
    "char_set = pd.DataFrame(char_merge).reset_index()\n",
    "char_set.columns = ['year', 'value']\n",
    "print(char_set)"
   ]
  },
  {
   "cell_type": "code",
   "execution_count": null,
   "id": "5d3454e3-0f42-4ee2-9111-fd4fcbe50bb4",
   "metadata": {},
   "outputs": [],
   "source": [
    "world_rename = world_set.rename(columns={'value': 'vehicle'})\n",
    "char_rename = char_set.rename(columns={'value': 'charge'})\n",
    "merged_ev = pd.merge(world_rename, char_rename, on= 'year', how= 'inner')\n",
    "print(merged_ev)"
   ]
  },
  {
   "cell_type": "code",
   "execution_count": null,
   "id": "46fed355-38f8-49ad-9b53-409fa643372d",
   "metadata": {},
   "outputs": [],
   "source": [
    "corr_coef, p_value = pearsonr(merged_ev['vehicle'], merged_ev['charge'])\n",
    "\n",
    "print(\"Correlation coefficient \", corr_coef)\n",
    "print(\"P-value \", p_value)"
   ]
  },
  {
   "cell_type": "code",
   "execution_count": null,
   "id": "d0fd3176-fc5a-4885-be1f-cd108c30de39",
   "metadata": {},
   "outputs": [],
   "source": [
    "world_log = np.log(world['value'])\n",
    "world_log_stat = world_log.diff().dropna()"
   ]
  },
  {
   "cell_type": "code",
   "execution_count": null,
   "id": "59c4ef5d-1055-4d44-b4fc-23548eb56537",
   "metadata": {},
   "outputs": [],
   "source": [
    "answer = adfuller(world_log_stat)\n",
    "print('ADF:', answer[0],\n",
    "      'p-value:', answer[1])"
   ]
  }
 ],
 "metadata": {
  "kernelspec": {
   "display_name": "Python 3 (ipykernel)",
   "language": "python",
   "name": "python3"
  },
  "language_info": {
   "codemirror_mode": {
    "name": "ipython",
    "version": 3
   },
   "file_extension": ".py",
   "mimetype": "text/x-python",
   "name": "python",
   "nbconvert_exporter": "python",
   "pygments_lexer": "ipython3",
   "version": "3.12.4"
  }
 },
 "nbformat": 4,
 "nbformat_minor": 5
}
